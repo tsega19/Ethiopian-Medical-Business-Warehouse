{
 "cells": [
  {
   "cell_type": "code",
   "execution_count": 1,
   "metadata": {},
   "outputs": [],
   "source": [
    "# Add the parent directory to the system path \n",
    "import os\n",
    "import sys\n",
    "\n",
    "import matplotlib.pyplot as plt\n",
    "import matplotlib.patches as patches\n",
    "from PIL import Image\n",
    "import numpy as np\n",
    "sys.path.append(os.path.abspath(os.path.join('..')))\n"
   ]
  },
  {
   "cell_type": "code",
   "execution_count": 2,
   "metadata": {},
   "outputs": [],
   "source": [
    "import warnings\n",
    "warnings.simplefilter(action='ignore', category=FutureWarning)"
   ]
  },
  {
   "cell_type": "code",
   "execution_count": 3,
   "metadata": {},
   "outputs": [],
   "source": [
    "from scripts.yolo_object_detection import *\n",
    "from dotenv import load_dotenv"
   ]
  },
  {
   "cell_type": "code",
   "execution_count": 4,
   "metadata": {},
   "outputs": [
    {
     "data": {
      "text/plain": [
       "True"
      ]
     },
     "execution_count": 4,
     "metadata": {},
     "output_type": "execute_result"
    }
   ],
   "source": [
    "# Load environment variables\n",
    "load_dotenv()"
   ]
  },
  {
   "cell_type": "code",
   "execution_count": 5,
   "metadata": {},
   "outputs": [],
   "source": [
    "# Set the image directory\n",
    "image_directory = os.getenv('RAW_DATA_DIRECTORY', '../data/raw_json/images')"
   ]
  },
  {
   "cell_type": "code",
   "execution_count": 6,
   "metadata": {},
   "outputs": [
    {
     "name": "stderr",
     "output_type": "stream",
     "text": [
      "Using cache found in C:\\Users\\JO/.cache\\torch\\hub\\ultralytics_yolov5_master\n",
      "YOLOv5  2024-10-13 Python-3.12.1 torch-2.4.1+cpu CPU\n",
      "\n",
      "Fusing layers... \n",
      "YOLOv5s summary: 213 layers, 7225885 parameters, 0 gradients, 16.4 GFLOPs\n",
      "Adding AutoShape... \n"
     ]
    }
   ],
   "source": [
    "# Process all images\n",
    "detections = process_all_images(image_directory)"
   ]
  },
  {
   "cell_type": "code",
   "execution_count": 7,
   "metadata": {},
   "outputs": [
    {
     "name": "stdout",
     "output_type": "stream",
     "text": [
      "Total detections: 13099\n"
     ]
    }
   ],
   "source": [
    "# Print summary of detections\n",
    "print(f\"Total detections: {len(detections)}\")"
   ]
  },
  {
   "cell_type": "code",
   "execution_count": 8,
   "metadata": {},
   "outputs": [],
   "source": [
    "# Group detections by class\n",
    "class_counts = {}\n",
    "for detection in detections:\n",
    "    class_name = detection['class_name']\n",
    "    class_counts[class_name] = class_counts.get(class_name, 0) + 1"
   ]
  },
  {
   "cell_type": "code",
   "execution_count": 9,
   "metadata": {},
   "outputs": [
    {
     "name": "stdout",
     "output_type": "stream",
     "text": [
      "\n",
      "Detections by class:\n",
      "person: 7267\n",
      "bottle: 1045\n",
      "chair: 670\n",
      "book: 577\n",
      "tie: 363\n",
      "handbag: 296\n",
      "cup: 290\n",
      "tv: 280\n",
      "laptop: 280\n",
      "orange: 273\n",
      "cell phone: 134\n",
      "apple: 119\n",
      "dining table: 106\n",
      "bowl: 102\n",
      "clock: 100\n",
      "potted plant: 99\n",
      "sports ball: 92\n",
      "toilet: 92\n",
      "umbrella: 60\n",
      "car: 57\n",
      "banana: 55\n",
      "refrigerator: 47\n",
      "scissors: 47\n",
      "stop sign: 45\n",
      "cake: 37\n",
      "frisbee: 32\n",
      "mouse: 32\n",
      "wine glass: 31\n",
      "remote: 30\n",
      "donut: 30\n",
      "traffic light: 30\n",
      "keyboard: 28\n",
      "vase: 28\n",
      "suitcase: 28\n",
      "kite: 26\n",
      "backpack: 26\n",
      "knife: 25\n",
      "carrot: 24\n",
      "teddy bear: 18\n",
      "bed: 16\n",
      "bird: 13\n",
      "parking meter: 13\n",
      "airplane: 11\n",
      "tennis racket: 11\n",
      "microwave: 11\n",
      "sink: 11\n",
      "fork: 11\n",
      "sandwich: 10\n",
      "couch: 10\n",
      "bench: 7\n",
      "spoon: 7\n",
      "baseball bat: 6\n",
      "hot dog: 6\n",
      "cat: 5\n",
      "skateboard: 4\n",
      "toothbrush: 3\n",
      "broccoli: 3\n",
      "boat: 3\n",
      "surfboard: 3\n",
      "bicycle: 2\n",
      "fire hydrant: 2\n",
      "sheep: 2\n",
      "motorcycle: 1\n",
      "horse: 1\n",
      "oven: 1\n",
      "bear: 1\n",
      "cow: 1\n",
      "dog: 1\n",
      "train: 1\n",
      "truck: 1\n"
     ]
    }
   ],
   "source": [
    "print(\"\\nDetections by class:\")\n",
    "for class_name, count in sorted(class_counts.items(), key=lambda x: x[1], reverse=True):\n",
    "    print(f\"{class_name}: {count}\")"
   ]
  },
  {
   "cell_type": "code",
   "execution_count": 10,
   "metadata": {},
   "outputs": [
    {
     "name": "stdout",
     "output_type": "stream",
     "text": [
      "\n",
      "Example detections:\n",
      "Image: CheMed_13.jpg\n",
      "Class: sports ball\n",
      "Confidence: 0.73\n",
      "Bounding Box: [318.3664245605469, 394.81304931640625, 382.8002014160156, 462.255859375]\n",
      "\n",
      "Image: CheMed_13.jpg\n",
      "Class: sports ball\n",
      "Confidence: 0.68\n",
      "Bounding Box: [739.459228515625, 544.9797973632812, 807.5819091796875, 615.8799438476562]\n",
      "\n",
      "Image: CheMed_13.jpg\n",
      "Class: cup\n",
      "Confidence: 0.68\n",
      "Bounding Box: [738.3901977539062, 542.6341552734375, 807.9337768554688, 616.78369140625]\n",
      "\n",
      "Image: CheMed_13.jpg\n",
      "Class: sports ball\n",
      "Confidence: 0.51\n",
      "Bounding Box: [668.202392578125, 589.57373046875, 730.860595703125, 657.322265625]\n",
      "\n",
      "Image: CheMed_13.jpg\n",
      "Class: sports ball\n",
      "Confidence: 0.45\n",
      "Bounding Box: [231.4586944580078, 473.5854797363281, 299.4995422363281, 536.7074584960938]\n",
      "\n"
     ]
    }
   ],
   "source": [
    "# Display a few example detections\n",
    "print(\"\\nExample detections:\")\n",
    "for detection in detections[:5]:  # Show first 5 detections\n",
    "    print(f\"Image: {os.path.basename(detection['image_path'])}\")\n",
    "    print(f\"Class: {detection['class_name']}\")\n",
    "    print(f\"Confidence: {detection['confidence']:.2f}\")\n",
    "    print(f\"Bounding Box: {detection['bbox']}\")\n",
    "    print()"
   ]
  }
 ],
 "metadata": {
  "kernelspec": {
   "display_name": "venv",
   "language": "python",
   "name": "python3"
  },
  "language_info": {
   "codemirror_mode": {
    "name": "ipython",
    "version": 3
   },
   "file_extension": ".py",
   "mimetype": "text/x-python",
   "name": "python",
   "nbconvert_exporter": "python",
   "pygments_lexer": "ipython3",
   "version": "3.12.1"
  }
 },
 "nbformat": 4,
 "nbformat_minor": 2
}
